{
 "cells": [
  {
   "cell_type": "code",
   "execution_count": null,
   "metadata": {},
   "outputs": [],
   "source": []
  },
  {
   "cell_type": "code",
   "execution_count": null,
   "metadata": {},
   "outputs": [],
   "source": [
    "import torch\n",
    "from torch import optim, nn\n",
    "from torch.utils.data import DataLoader\n",
    "from tqdm.auto import tqdm\n",
    "from torchvision import datasets, transforms"
   ]
  },
  {
   "cell_type": "code",
   "execution_count": null,
   "metadata": {},
   "outputs": [],
   "source": [
    "# Load the MNIST dataset\n",
    "train_dataset = datasets.MNIST(\n",
    "    \"data\", train=True, download=True, transform=transforms.ToTensor()\n",
    ")\n",
    "test_dataset = datasets.MNIST(\n",
    "    \"data\", train=False, download=True, transform=transforms.ToTensor()\n",
    ")"
   ]
  },
  {
   "cell_type": "code",
   "execution_count": null,
   "metadata": {},
   "outputs": [],
   "source": [
    "# Define the model\n",
    "model = nn.Sequential(\n",
    "    nn.Linear(784, 64),\n",
    "    nn.Dropout(0.2),\n",
    "    nn.ReLU(),\n",
    "    nn.Linear(64, 10),\n",
    ")"
   ]
  },
  {
   "cell_type": "code",
   "execution_count": null,
   "metadata": {},
   "outputs": [],
   "source": [
    "def accuracy(outputs, labels):\n",
    "    _, preds = torch.max(outputs, dim=1)\n",
    "    return torch.tensor(torch.sum(preds == labels).item() / len(preds))"
   ]
  },
  {
   "cell_type": "code",
   "execution_count": null,
   "metadata": {},
   "outputs": [],
   "source": [
    "# Train the model\n",
    "loss_fn = nn.CrossEntropyLoss()\n",
    "optimizer = optim.Adam(model.parameters(), lr=0.001)\n",
    "\n",
    "batch_size = 512\n",
    "train_loader = DataLoader(train_dataset, batch_size=batch_size, shuffle=True)\n",
    "test_loader = DataLoader(test_dataset, batch_size=batch_size, shuffle=False)\n",
    "\n",
    "n_epochs = 1\n",
    "losses = []\n",
    "eval_losses = []\n",
    "eval_accuracies = []\n",
    "for epoch in range(n_epochs):\n",
    "    model.train()\n",
    "    progress_bar = tqdm(train_loader, total=len(train_loader))\n",
    "    for imgs, labels in progress_bar:\n",
    "        imgs = imgs.view(imgs.shape[0], -1)\n",
    "        optimizer.zero_grad()\n",
    "        output = model(imgs)\n",
    "        loss = loss_fn(output, labels)\n",
    "        loss.backward()\n",
    "        optimizer.step()\n",
    "        losses.append(loss.item())\n",
    "        rolling_loss = torch.tensor(losses[-100:]).mean()\n",
    "        progress_bar.set_description(\n",
    "            f\"Epoch {epoch+1}/{n_epochs}, loss: {rolling_loss.item():.4f}\"\n",
    "        )\n",
    "\n",
    "    # Evaluate the model\n",
    "    model.eval()\n",
    "    progress_bar = tqdm(test_loader, total=len(test_loader))\n",
    "    for imgs, labels in progress_bar:\n",
    "        imgs = imgs.view(imgs.shape[0], -1)\n",
    "        output = model(imgs)\n",
    "        loss = loss_fn(output, labels)\n",
    "        acc = accuracy(output, labels)\n",
    "        eval_losses.append(loss.item())\n",
    "        eval_accuracies.append(acc.item())\n",
    "        rolling_loss = torch.tensor(eval_losses[-100:]).mean()\n",
    "        rolling_acc = torch.tensor(eval_accuracies[-100:]).mean()\n",
    "        progress_bar.set_description(\n",
    "            f\"Epoch {epoch+1}/{n_epochs}, loss: {rolling_loss.item():.4f}, acc: {rolling_acc.item():.4f}\"\n",
    "        )"
   ]
  },
  {
   "cell_type": "markdown",
   "metadata": {},
   "source": [
    "# uncertainty estimation with monte carlo dropout\n",
    "\n",
    "the model is trained with dropout, and the uncertainty is estimated by running the model multiple times with dropout enabled."
   ]
  },
  {
   "cell_type": "code",
   "execution_count": null,
   "metadata": {},
   "outputs": [],
   "source": [
    "import numpy as np\n",
    "\n",
    "X = test_dataset.data.float().view(-1, 784) / 255.0\n",
    "y_true = test_dataset.targets\n",
    "\n",
    "model.train()  # Set the model to training mode so that dropout is applied\n",
    "y_mc = torch.stack([model(X) for _ in range(100)])\n",
    "\n",
    "y_mean = y_mc.mean(dim=0).detach().numpy()\n",
    "y_std = y_mc.std(dim=0).detach().numpy()\n",
    "y_prob = nn.functional.softmax(torch.tensor(y_mean), dim=1).numpy()\n",
    "\n",
    "entropy = -(y_std * np.log(y_std)).sum(axis=1)"
   ]
  },
  {
   "cell_type": "code",
   "execution_count": null,
   "metadata": {},
   "outputs": [],
   "source": [
    "n_examples = 5"
   ]
  },
  {
   "cell_type": "code",
   "execution_count": null,
   "metadata": {},
   "outputs": [],
   "source": [
    "import matplotlib.pyplot as plt\n",
    "\n",
    "most_confident_indices = entropy.argsort()[:n_examples]\n",
    "fig, axs = plt.subplots(1, n_examples, figsize=(12, 4))\n",
    "for i, ax in enumerate(axs):\n",
    "    idx = most_confident_indices[i]\n",
    "    ax.imshow(test_dataset.data[idx], cmap=\"gray\")\n",
    "    ax.set_title(f\"Entropy {entropy[idx]:.2f}, class {y_mean[idx].argmax()}\")\n",
    "    ax.axis(\"off\")\n",
    "plt.tight_layout()\n",
    "\n",
    "# save the plot as an svg file\n",
    "plt.savefig(\"../images/most-confident.svg\")"
   ]
  },
  {
   "cell_type": "code",
   "execution_count": null,
   "metadata": {},
   "outputs": [],
   "source": [
    "import matplotlib.pyplot as plt\n",
    "\n",
    "least_confident_indices = entropy.argsort()[-n_examples:]\n",
    "fig, axs = plt.subplots(1, n_examples, figsize=(12, 4))\n",
    "for i, ax in enumerate(axs):\n",
    "    idx = least_confident_indices[i]\n",
    "    ax.imshow(test_dataset.data[idx], cmap=\"gray\")\n",
    "    ax.set_title(f\"Entropy {entropy[idx]:.2f}, class {y_mean[idx].argmax()}\")\n",
    "    ax.axis(\"off\")\n",
    "plt.tight_layout()\n",
    "\n",
    "# save the plot as an svg file\n",
    "plt.savefig(\"../images/least-confident.svg\")"
   ]
  },
  {
   "cell_type": "code",
   "execution_count": null,
   "metadata": {},
   "outputs": [],
   "source": [
    "# find high confidence incorrect predictions\n",
    "incorrect_indices = np.where(y_mean.argmax(axis=1) != y_true.numpy())[0]\n",
    "sorted_by_entropy = incorrect_indices[np.argsort(entropy[incorrect_indices])]\n",
    "\n",
    "fig, axs = plt.subplots(1, n_examples, figsize=(12, 4))\n",
    "for i, ax in enumerate(axs):\n",
    "    idx = sorted_by_entropy[i]\n",
    "    ax.imshow(test_dataset.data[idx], cmap=\"gray\")\n",
    "    ax.set_title(f\"Entropy {entropy[idx]:.2f}, class {y_mean[idx].argmax()}\")\n",
    "    ax.axis(\"off\")\n",
    "plt.tight_layout()\n",
    "\n",
    "# save the plot as an svg file\n",
    "plt.savefig(\"../images/most-confident-incorrect.svg\")"
   ]
  },
  {
   "cell_type": "code",
   "execution_count": null,
   "metadata": {},
   "outputs": [],
   "source": []
  }
 ],
 "metadata": {
  "kernelspec": {
   "display_name": ".venv",
   "language": "python",
   "name": "python3"
  },
  "language_info": {
   "codemirror_mode": {
    "name": "ipython",
    "version": 3
   },
   "file_extension": ".py",
   "mimetype": "text/x-python",
   "name": "python",
   "nbconvert_exporter": "python",
   "pygments_lexer": "ipython3",
   "version": "3.10.13"
  }
 },
 "nbformat": 4,
 "nbformat_minor": 2
}
