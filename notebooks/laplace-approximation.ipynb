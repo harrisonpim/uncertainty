{
 "cells": [
  {
   "cell_type": "markdown",
   "metadata": {},
   "source": [
    "# Laplace\n",
    "\n",
    "Adapted from [the laplace docs](https://aleximmer.github.io/Laplace/#full-example-post-hoc-laplace-on-a-large-image-classifier), for the MNIST dataset\n",
    "\n",
    "## Simple MNIST dataset and model"
   ]
  },
  {
   "cell_type": "code",
   "execution_count": null,
   "metadata": {},
   "outputs": [],
   "source": [
    "import torch\n",
    "from torch import optim, nn\n",
    "from torch.utils.data import DataLoader\n",
    "from tqdm.auto import tqdm\n",
    "from torchvision import datasets, transforms"
   ]
  },
  {
   "cell_type": "code",
   "execution_count": null,
   "metadata": {},
   "outputs": [],
   "source": [
    "# define a flatten transform\n",
    "flatten = transforms.Lambda(lambda x: x.view(-1))\n",
    "\n",
    "# Load the MNIST dataset\n",
    "train_dataset = datasets.MNIST(\n",
    "    \"data\",\n",
    "    train=True,\n",
    "    download=True,\n",
    "    transform=transforms.Compose([transforms.ToTensor(), flatten]),\n",
    ")\n",
    "test_dataset = datasets.MNIST(\n",
    "    \"data\",\n",
    "    train=False,\n",
    "    download=True,\n",
    "    transform=transforms.Compose([transforms.ToTensor(), flatten]),\n",
    ")\n",
    "\n",
    "# Define the model\n",
    "model = nn.Sequential(\n",
    "    nn.Linear(784, 256),\n",
    "    nn.Dropout(0.2),\n",
    "    nn.ReLU(),\n",
    "    nn.Linear(256, 64),\n",
    "    nn.Dropout(0.2),\n",
    "    nn.ReLU(),\n",
    "    nn.Linear(64, 10),\n",
    ")"
   ]
  },
  {
   "cell_type": "code",
   "execution_count": null,
   "metadata": {},
   "outputs": [],
   "source": [
    "def accuracy(outputs, labels):\n",
    "    _, preds = torch.max(outputs, dim=1)\n",
    "    return torch.tensor(torch.sum(preds == labels).item() / len(preds))"
   ]
  },
  {
   "cell_type": "code",
   "execution_count": null,
   "metadata": {},
   "outputs": [],
   "source": [
    "# Train the model\n",
    "loss_fn = nn.CrossEntropyLoss()\n",
    "optimizer = optim.Adam(model.parameters(), lr=0.001)\n",
    "\n",
    "batch_size = 512\n",
    "train_loader = DataLoader(train_dataset, batch_size=batch_size, shuffle=True)\n",
    "test_loader = DataLoader(test_dataset, batch_size=batch_size, shuffle=False)\n",
    "\n",
    "n_epochs = 5\n",
    "losses = []\n",
    "eval_losses = []\n",
    "eval_accuracies = []\n",
    "for epoch in range(n_epochs):\n",
    "    model.train()\n",
    "    progress_bar = tqdm(train_loader, total=len(train_loader))\n",
    "    for imgs, labels in progress_bar:\n",
    "        imgs = imgs.view(imgs.shape[0], -1)\n",
    "        optimizer.zero_grad()\n",
    "        output = model(imgs)\n",
    "        loss = loss_fn(output, labels)\n",
    "        loss.backward()\n",
    "        optimizer.step()\n",
    "        losses.append(loss.item())\n",
    "        rolling_loss = torch.tensor(losses[-100:]).mean()\n",
    "        progress_bar.set_description(\n",
    "            f\"Epoch {epoch+1}/{n_epochs}, loss: {rolling_loss.item():.4f}\"\n",
    "        )\n",
    "\n",
    "    # Evaluate the model\n",
    "    model.eval()\n",
    "    progress_bar = tqdm(test_loader, total=len(test_loader))\n",
    "    for imgs, labels in progress_bar:\n",
    "        output = model(imgs)\n",
    "        loss = loss_fn(output, labels)\n",
    "        acc = accuracy(output, labels)\n",
    "        eval_losses.append(loss.item())\n",
    "        eval_accuracies.append(acc.item())\n",
    "        rolling_loss = torch.tensor(eval_losses[-100:]).mean()\n",
    "        rolling_acc = torch.tensor(eval_accuracies[-100:]).mean()\n",
    "        progress_bar.set_description(\n",
    "            f\"Epoch {epoch+1}/{n_epochs}, loss: {rolling_loss.item():.4f}, acc: {rolling_acc.item():.4f}\"\n",
    "        )"
   ]
  },
  {
   "cell_type": "markdown",
   "metadata": {},
   "source": [
    "## Laplace\n"
   ]
  },
  {
   "cell_type": "code",
   "execution_count": null,
   "metadata": {},
   "outputs": [],
   "source": [
    "from laplace import Laplace\n",
    "\n",
    "la = Laplace(model, \"classification\", subset_of_weights=\"all\", hessian_structure=\"kron\")\n",
    "la.fit(train_loader)\n",
    "la.optimize_prior_precision(method=\"marglik\")"
   ]
  },
  {
   "cell_type": "code",
   "execution_count": null,
   "metadata": {},
   "outputs": [],
   "source": [
    "input_data = test_dataset.data.view(-1, 784).float()[0:25]"
   ]
  },
  {
   "cell_type": "code",
   "execution_count": null,
   "metadata": {},
   "outputs": [],
   "source": [
    "from tqdm.auto import tqdm\n",
    "import numpy as np"
   ]
  },
  {
   "cell_type": "code",
   "execution_count": null,
   "metadata": {},
   "outputs": [],
   "source": [
    "input_data = input_data = test_dataset.data.view(-1, 784).float()[0:20]\n",
    "samples = la.predictive_samples(input_data, n_samples=100)"
   ]
  },
  {
   "cell_type": "code",
   "execution_count": null,
   "metadata": {},
   "outputs": [],
   "source": [
    "sample_mean = samples.mean(axis=0)\n",
    "sample_std = samples.std(axis=0)"
   ]
  },
  {
   "cell_type": "code",
   "execution_count": null,
   "metadata": {},
   "outputs": [],
   "source": [
    "most_uncertain = np.argsort(sample_std.mean(axis=1))[-5:]\n",
    "most_uncertain"
   ]
  },
  {
   "cell_type": "code",
   "execution_count": null,
   "metadata": {},
   "outputs": [],
   "source": [
    "# print the mean and std of the most uncertain samples\n",
    "for i in most_uncertain:\n",
    "    print(\n",
    "        f\"Sample {i}: predicted class {sample_mean[i].argmax()} with a mean prob {sample_mean[i].max()} std {sample_std[i].max()}\"\n",
    "    )"
   ]
  },
  {
   "cell_type": "code",
   "execution_count": null,
   "metadata": {},
   "outputs": [],
   "source": [
    "example = 0\n",
    "for i in range(10):\n",
    "    print(\n",
    "        f\"Class {i}: {sample_mean[example, i].mean():.2f} ± {sample_std[example, i].mean():.2f}\"\n",
    "    )"
   ]
  },
  {
   "cell_type": "code",
   "execution_count": null,
   "metadata": {},
   "outputs": [],
   "source": []
  }
 ],
 "metadata": {
  "kernelspec": {
   "display_name": ".venv",
   "language": "python",
   "name": "python3"
  },
  "language_info": {
   "codemirror_mode": {
    "name": "ipython",
    "version": 3
   },
   "file_extension": ".py",
   "mimetype": "text/x-python",
   "name": "python",
   "nbconvert_exporter": "python",
   "pygments_lexer": "ipython3",
   "version": "3.10.13"
  }
 },
 "nbformat": 4,
 "nbformat_minor": 2
}
